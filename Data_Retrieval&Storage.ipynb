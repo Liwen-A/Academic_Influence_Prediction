{
 "cells": [
  {
   "cell_type": "markdown",
   "metadata": {},
   "source": [
    "# Some Starter Code for Retrieving, and Analyzing Data Using API\n",
    "In this notebook I include a basic example of \n",
    "1. retrieving data using [SemanticScholar APIs](https://api.semanticscholar.org/graph/v1)\n",
    "2. store it in a pandas dataframe  \n",
    "3. write it to a .csv file. \n",
    "test"
   ]
  },
  {
   "cell_type": "code",
   "execution_count": 2,
   "metadata": {},
   "outputs": [],
   "source": [
    "import requests \n",
    "import pandas as pd "
   ]
  },
  {
   "cell_type": "markdown",
   "metadata": {},
   "source": [
    "As an example, the following API performs a search by keyword and:\n",
    "1. Returns with total=639637, offset=0, next=100, and data is a list of 100 papers.\n",
    "2. Each paper has paperId, abstract, year, referenceCount, citationCount, influentialCitationCount and fieldsOfStudy \n",
    "\n",
    "Feel free to change the strings after 'query=' and 'fields='to specify what keyword you want to search and what fields, i.e. data, you want the API to return.  Add 'limit=' to specify how many data you want it to return.\n",
    "For more information on other APIs refer to [SemanticScholar APIs](https://api.semanticscholar.org/graph/v1)"
   ]
  },
  {
   "cell_type": "code",
   "execution_count": 33,
   "metadata": {},
   "outputs": [],
   "source": [
    "response = requests.get('https://api.semanticscholar.org/graph/v1/paper/search?&query=covid&fields=abstract,year,referenceCount,authors,citationCount,influentialCitationCount,fieldsOfStudy&offest=0&limit=100')"
   ]
  },
  {
   "cell_type": "markdown",
   "metadata": {},
   "source": [
    "An example of the paper instance returned by the above API call"
   ]
  },
  {
   "cell_type": "code",
   "execution_count": 35,
   "metadata": {},
   "outputs": [
    {
     "data": {
      "text/plain": [
       "{'paperId': '8e787e925eeb7ad735a228b2b1e8dd6d9620be83',\n",
       " 'abstract': '\\n               Summary\\n               \\n                  Background\\n                  Since December, 2019, Wuhan, China, has experienced an outbreak of coronavirus disease 2019 (COVID-19), caused by the severe acute respiratory syndrome coronavirus 2 (SARS-CoV-2). Epidemiological and clinical characteristics of patients with COVID-19 have been reported but risk factors for mortality and a detailed clinical course of illness, including viral shedding, have not been well described.\\n               \\n               \\n                  Methods\\n                  In this retrospective, multicentre cohort study, we included all adult inpatients (≥18 years old) with laboratory-confirmed COVID-19 from Jinyintan Hospital and Wuhan Pulmonary Hospital (Wuhan, China) who had been discharged or had died by Jan 31, 2020. Demographic, clinical, treatment, and laboratory data, including serial samples for viral RNA detection, were extracted from electronic medical records and compared between survivors and non-survivors. We used univariable and multivariable logistic regression methods to explore the risk factors associated with in-hospital death.\\n               \\n               \\n                  Findings\\n                  191 patients (135 from Jinyintan Hospital and 56 from Wuhan Pulmonary Hospital) were included in this study, of whom 137 were discharged and 54 died in hospital. 91 (48%) patients had a comorbidity, with hypertension being the most common (58 [30%] patients), followed by diabetes (36 [19%] patients) and coronary heart disease (15 [8%] patients). Multivariable regression showed increasing odds of in-hospital death associated with older age (odds ratio 1·10, 95% CI 1·03–1·17, per year increase; p=0·0043), higher Sequential Organ Failure Assessment (SOFA) score (5·65, 2·61–12·23; p<0·0001), and d-dimer greater than 1 μg/mL (18·42, 2·64–128·55; p=0·0033) on admission. Median duration of viral shedding was 20·0 days (IQR 17·0–24·0) in survivors, but SARS-CoV-2 was detectable until death in non-survivors. The longest observed duration of viral shedding in survivors was 37 days.\\n               \\n               \\n                  Interpretation\\n                  The potential risk factors of older age, high SOFA score, and d-dimer greater than 1 μg/mL could help clinicians to identify patients with poor prognosis at an early stage. Prolonged viral shedding provides the rationale for a strategy of isolation of infected patients and optimal antiviral interventions in the future.\\n               \\n               \\n                  Funding\\n                  Chinese Academy of Medical Sciences Innovation Fund for Medical Sciences; National Science Grant for Distinguished Young Scholars; National Key Research and Development Program of China; The Beijing Science and Technology Project; and Major Projects of National Science and Technology on New Drug Creation and Development.\\n               \\n            ',\n",
       " 'year': 2020,\n",
       " 'referenceCount': 43,\n",
       " 'citationCount': 14367,\n",
       " 'influentialCitationCount': 485,\n",
       " 'fieldsOfStudy': ['Medicine'],\n",
       " 'authors': [{'authorId': '47978673', 'name': 'F. Zhou'},\n",
       "  {'authorId': '2087140469', 'name': 'Ting Yu'},\n",
       "  {'authorId': '50335528', 'name': 'R. Du'},\n",
       "  {'authorId': '39306319', 'name': 'Guohui Fan'},\n",
       "  {'authorId': '47909039', 'name': 'Y. Liu'},\n",
       "  {'authorId': '2109253132', 'name': 'Zhibo Liu'},\n",
       "  {'authorId': '51036064', 'name': 'J. Xiang'},\n",
       "  {'authorId': '2115737945', 'name': 'Ye-ming Wang'},\n",
       "  {'authorId': '2113346284', 'name': 'Bin Song'},\n",
       "  {'authorId': '2813542', 'name': 'Xiaoying Gu'},\n",
       "  {'authorId': '1600625614', 'name': 'Lulu Guan'},\n",
       "  {'authorId': '47508747', 'name': 'Yuan Wei'},\n",
       "  {'authorId': '13032167', 'name': 'H. Li'},\n",
       "  {'authorId': '47149736', 'name': 'Xudong Wu'},\n",
       "  {'authorId': '46178330', 'name': 'Jiuyang Xu'},\n",
       "  {'authorId': '47381077', 'name': 'Shengjin Tu'},\n",
       "  {'authorId': '48379332', 'name': 'Y. Zhang'},\n",
       "  {'authorId': '39458874', 'name': 'H. Chen'},\n",
       "  {'authorId': '144948995', 'name': 'B. Cao'}]}"
      ]
     },
     "execution_count": 35,
     "metadata": {},
     "output_type": "execute_result"
    }
   ],
   "source": [
    "response.json()['data'][0]"
   ]
  },
  {
   "cell_type": "markdown",
   "metadata": {},
   "source": [
    "The API only supports 100 resquests per 5 minutes. Here is an example of making 50 requests that retrieve the papers with keyword 'covid' and 'vaccination' and load them into a pandas dataframe       \n",
    "\n",
    "Note here the response.json() is a dictionary with keys 'total', 'offset','next', and 'data'. Here the value of the key 'data' is of our interest, and it is a list of dictionaries. Each dictionary stores the relevant data of a paper specified in your query. \n",
    "\n",
    "For demonstration purpose only [paperId\tyear,referenceCount,citationCount,influentialCitationCount,fieldsOfStudy] are collecrted."
   ]
  },
  {
   "cell_type": "code",
   "execution_count": 24,
   "metadata": {},
   "outputs": [],
   "source": [
    "num_requests = 50\n",
    "keyword = ['covid','vaccination']  \n",
    "data = []\n",
    "for i in range(num_requests):\n",
    "    q = '+'.join(keyword)\n",
    "    query = 'https://api.semanticscholar.org/graph/v1/paper/search?&query={}&fields=year,referenceCount,citationCount,influentialCitationCount,fieldsOfStudy&offest={}&limit=100'.format(q,i*100)\n",
    "    response = requests.get(query)\n",
    "    data += response.json()['data']"
   ]
  },
  {
   "cell_type": "markdown",
   "metadata": {},
   "source": [
    "The following cell is a example of storing the retrived data into a pandas dataframe and write it into a csv file. "
   ]
  },
  {
   "cell_type": "code",
   "execution_count": 25,
   "metadata": {},
   "outputs": [
    {
     "data": {
      "text/html": [
       "<div>\n",
       "<style scoped>\n",
       "    .dataframe tbody tr th:only-of-type {\n",
       "        vertical-align: middle;\n",
       "    }\n",
       "\n",
       "    .dataframe tbody tr th {\n",
       "        vertical-align: top;\n",
       "    }\n",
       "\n",
       "    .dataframe thead th {\n",
       "        text-align: right;\n",
       "    }\n",
       "</style>\n",
       "<table border=\"1\" class=\"dataframe\">\n",
       "  <thead>\n",
       "    <tr style=\"text-align: right;\">\n",
       "      <th></th>\n",
       "      <th>paperId</th>\n",
       "      <th>year</th>\n",
       "      <th>referenceCount</th>\n",
       "      <th>citationCount</th>\n",
       "      <th>influentialCitationCount</th>\n",
       "      <th>fieldsOfStudy</th>\n",
       "    </tr>\n",
       "  </thead>\n",
       "  <tbody>\n",
       "    <tr>\n",
       "      <th>0</th>\n",
       "      <td>8e787e925eeb7ad735a228b2b1e8dd6d9620be83</td>\n",
       "      <td>2020</td>\n",
       "      <td>43</td>\n",
       "      <td>14366</td>\n",
       "      <td>485</td>\n",
       "      <td>[Medicine]</td>\n",
       "    </tr>\n",
       "    <tr>\n",
       "      <th>1</th>\n",
       "      <td>97881c6577c310f50fc86738c0268896b970dfa4</td>\n",
       "      <td>2020</td>\n",
       "      <td>12</td>\n",
       "      <td>10176</td>\n",
       "      <td>341</td>\n",
       "      <td>[Medicine]</td>\n",
       "    </tr>\n",
       "    <tr>\n",
       "      <th>2</th>\n",
       "      <td>ca019e1e38edf9d2112ea987362da454f909ac1b</td>\n",
       "      <td>2020</td>\n",
       "      <td>4</td>\n",
       "      <td>4802</td>\n",
       "      <td>227</td>\n",
       "      <td>[Medicine]</td>\n",
       "    </tr>\n",
       "    <tr>\n",
       "      <th>3</th>\n",
       "      <td>dd86b3551add27004b5bf3f5fb206bec9cd69c4f</td>\n",
       "      <td>2020</td>\n",
       "      <td>18</td>\n",
       "      <td>5011</td>\n",
       "      <td>129</td>\n",
       "      <td>[Medicine]</td>\n",
       "    </tr>\n",
       "    <tr>\n",
       "      <th>4</th>\n",
       "      <td>d23288ee99138421d6a771a14a98a9cdddd97f98</td>\n",
       "      <td>2020</td>\n",
       "      <td>5</td>\n",
       "      <td>5014</td>\n",
       "      <td>143</td>\n",
       "      <td>[Medicine]</td>\n",
       "    </tr>\n",
       "    <tr>\n",
       "      <th>...</th>\n",
       "      <td>...</td>\n",
       "      <td>...</td>\n",
       "      <td>...</td>\n",
       "      <td>...</td>\n",
       "      <td>...</td>\n",
       "      <td>...</td>\n",
       "    </tr>\n",
       "    <tr>\n",
       "      <th>4995</th>\n",
       "      <td>ebe3f062c05b57cb1f0f0f1e73ad23d8af6aef33</td>\n",
       "      <td>2020</td>\n",
       "      <td>126</td>\n",
       "      <td>775</td>\n",
       "      <td>60</td>\n",
       "      <td>[Medicine]</td>\n",
       "    </tr>\n",
       "    <tr>\n",
       "      <th>4996</th>\n",
       "      <td>b638d404a28a56d5553e84bea7450712f5cf00ba</td>\n",
       "      <td>2020</td>\n",
       "      <td>61</td>\n",
       "      <td>974</td>\n",
       "      <td>48</td>\n",
       "      <td>[Biology, Medicine]</td>\n",
       "    </tr>\n",
       "    <tr>\n",
       "      <th>4997</th>\n",
       "      <td>535ae4b3525c0a104b007f190fcce59de617a56e</td>\n",
       "      <td>2020</td>\n",
       "      <td>135</td>\n",
       "      <td>927</td>\n",
       "      <td>44</td>\n",
       "      <td>[Chemistry, Medicine]</td>\n",
       "    </tr>\n",
       "    <tr>\n",
       "      <th>4998</th>\n",
       "      <td>b557fb52771f9a5ff953ca9825f38e82dff33f50</td>\n",
       "      <td>2020</td>\n",
       "      <td>48</td>\n",
       "      <td>997</td>\n",
       "      <td>44</td>\n",
       "      <td>[Medicine]</td>\n",
       "    </tr>\n",
       "    <tr>\n",
       "      <th>4999</th>\n",
       "      <td>525065701dcc1a0c8ee64e22a832343e663da46e</td>\n",
       "      <td>2020</td>\n",
       "      <td>41</td>\n",
       "      <td>820</td>\n",
       "      <td>44</td>\n",
       "      <td>[Medicine]</td>\n",
       "    </tr>\n",
       "  </tbody>\n",
       "</table>\n",
       "<p>5000 rows × 6 columns</p>\n",
       "</div>"
      ],
      "text/plain": [
       "                                       paperId  year  referenceCount  \\\n",
       "0     8e787e925eeb7ad735a228b2b1e8dd6d9620be83  2020              43   \n",
       "1     97881c6577c310f50fc86738c0268896b970dfa4  2020              12   \n",
       "2     ca019e1e38edf9d2112ea987362da454f909ac1b  2020               4   \n",
       "3     dd86b3551add27004b5bf3f5fb206bec9cd69c4f  2020              18   \n",
       "4     d23288ee99138421d6a771a14a98a9cdddd97f98  2020               5   \n",
       "...                                        ...   ...             ...   \n",
       "4995  ebe3f062c05b57cb1f0f0f1e73ad23d8af6aef33  2020             126   \n",
       "4996  b638d404a28a56d5553e84bea7450712f5cf00ba  2020              61   \n",
       "4997  535ae4b3525c0a104b007f190fcce59de617a56e  2020             135   \n",
       "4998  b557fb52771f9a5ff953ca9825f38e82dff33f50  2020              48   \n",
       "4999  525065701dcc1a0c8ee64e22a832343e663da46e  2020              41   \n",
       "\n",
       "      citationCount  influentialCitationCount          fieldsOfStudy  \n",
       "0             14366                       485             [Medicine]  \n",
       "1             10176                       341             [Medicine]  \n",
       "2              4802                       227             [Medicine]  \n",
       "3              5011                       129             [Medicine]  \n",
       "4              5014                       143             [Medicine]  \n",
       "...             ...                       ...                    ...  \n",
       "4995            775                        60             [Medicine]  \n",
       "4996            974                        48    [Biology, Medicine]  \n",
       "4997            927                        44  [Chemistry, Medicine]  \n",
       "4998            997                        44             [Medicine]  \n",
       "4999            820                        44             [Medicine]  \n",
       "\n",
       "[5000 rows x 6 columns]"
      ]
     },
     "execution_count": 25,
     "metadata": {},
     "output_type": "execute_result"
    }
   ],
   "source": [
    "df = pd.DataFrame(data)\n",
    "df"
   ]
  },
  {
   "cell_type": "code",
   "execution_count": 29,
   "metadata": {},
   "outputs": [
    {
     "data": {
      "text/html": [
       "<div>\n",
       "<style scoped>\n",
       "    .dataframe tbody tr th:only-of-type {\n",
       "        vertical-align: middle;\n",
       "    }\n",
       "\n",
       "    .dataframe tbody tr th {\n",
       "        vertical-align: top;\n",
       "    }\n",
       "\n",
       "    .dataframe thead th {\n",
       "        text-align: right;\n",
       "    }\n",
       "</style>\n",
       "<table border=\"1\" class=\"dataframe\">\n",
       "  <thead>\n",
       "    <tr style=\"text-align: right;\">\n",
       "      <th></th>\n",
       "      <th>year</th>\n",
       "      <th>referenceCount</th>\n",
       "      <th>citationCount</th>\n",
       "      <th>influentialCitationCount</th>\n",
       "    </tr>\n",
       "  </thead>\n",
       "  <tbody>\n",
       "    <tr>\n",
       "      <th>count</th>\n",
       "      <td>5000.0</td>\n",
       "      <td>5000.000000</td>\n",
       "      <td>5000.000000</td>\n",
       "      <td>5000.000000</td>\n",
       "    </tr>\n",
       "    <tr>\n",
       "      <th>mean</th>\n",
       "      <td>2020.0</td>\n",
       "      <td>52.010000</td>\n",
       "      <td>2210.506400</td>\n",
       "      <td>73.870000</td>\n",
       "    </tr>\n",
       "    <tr>\n",
       "      <th>std</th>\n",
       "      <td>0.0</td>\n",
       "      <td>56.934684</td>\n",
       "      <td>1759.102379</td>\n",
       "      <td>61.506339</td>\n",
       "    </tr>\n",
       "    <tr>\n",
       "      <th>min</th>\n",
       "      <td>2020.0</td>\n",
       "      <td>0.000000</td>\n",
       "      <td>775.000000</td>\n",
       "      <td>26.000000</td>\n",
       "    </tr>\n",
       "    <tr>\n",
       "      <th>25%</th>\n",
       "      <td>2020.0</td>\n",
       "      <td>16.000000</td>\n",
       "      <td>1349.500000</td>\n",
       "      <td>45.750000</td>\n",
       "    </tr>\n",
       "    <tr>\n",
       "      <th>50%</th>\n",
       "      <td>2020.0</td>\n",
       "      <td>35.500000</td>\n",
       "      <td>1742.500000</td>\n",
       "      <td>57.500000</td>\n",
       "    </tr>\n",
       "    <tr>\n",
       "      <th>75%</th>\n",
       "      <td>2020.0</td>\n",
       "      <td>61.250000</td>\n",
       "      <td>2395.250000</td>\n",
       "      <td>78.500000</td>\n",
       "    </tr>\n",
       "    <tr>\n",
       "      <th>max</th>\n",
       "      <td>2020.0</td>\n",
       "      <td>353.000000</td>\n",
       "      <td>14367.000000</td>\n",
       "      <td>485.000000</td>\n",
       "    </tr>\n",
       "  </tbody>\n",
       "</table>\n",
       "</div>"
      ],
      "text/plain": [
       "         year  referenceCount  citationCount  influentialCitationCount\n",
       "count  5000.0     5000.000000    5000.000000               5000.000000\n",
       "mean   2020.0       52.010000    2210.506400                 73.870000\n",
       "std       0.0       56.934684    1759.102379                 61.506339\n",
       "min    2020.0        0.000000     775.000000                 26.000000\n",
       "25%    2020.0       16.000000    1349.500000                 45.750000\n",
       "50%    2020.0       35.500000    1742.500000                 57.500000\n",
       "75%    2020.0       61.250000    2395.250000                 78.500000\n",
       "max    2020.0      353.000000   14367.000000                485.000000"
      ]
     },
     "execution_count": 29,
     "metadata": {},
     "output_type": "execute_result"
    }
   ],
   "source": [
    "df.describe()"
   ]
  },
  {
   "cell_type": "code",
   "execution_count": 31,
   "metadata": {},
   "outputs": [],
   "source": [
    "df.to_csv('data.csv',index=False) # this writes a csv file to the current working directory "
   ]
  },
  {
   "cell_type": "markdown",
   "metadata": {},
   "source": [
    "Search by some keyword and then filter the data by year/discipline. Get 1k datapoints for 10 different disciplines each.   \n",
    "\n",
    "Potential disciplines to consider: [Math,Physics,Chemetry,Computer science, Aeronautics, Material Science, Civil Engineering, Biology, Medicine, scociology,economics]\n",
    "\n",
    "For each paper, get author ID, perform a search with author ID, get papers and citation count published by the author, calculate H-index.       \n",
    "\n",
    "\n",
    "train Models:        \n",
    "\n",
    "1.Linear Regression (with kernel)           \n",
    "2.NN            \n",
    "\n",
    "The following cells demonstrate how to define and train a simple regression model using Pytorch. We will use the data collecred above. The model will be a linear regression model that takes citationCount as input and predicts influentialCitationCount."
   ]
  },
  {
   "cell_type": "code",
   "execution_count": 84,
   "metadata": {},
   "outputs": [],
   "source": [
    "import torch\n",
    "import torch.nn as nn\n",
    "import numpy as np\n",
    "from sklearn.preprocessing import MinMaxScaler\n",
    "\n",
    "X_train = df['citationCount'].to_numpy(dtype=np.float32)\n",
    "y_train = df['influentialCitationCount'].to_numpy(dtype=np.float32)\n",
    "sc = MinMaxScaler() #scale the input so the gradient won't explode. \n",
    "X_train=sc.fit_transform(X_train.reshape(-1,1))\n",
    "y_train =y_train.reshape(-1,1)\n",
    "\n",
    "X_train = torch.from_numpy(X_train)\n",
    "y_train = torch.from_numpy(y_train)\n",
    "\n",
    "input_size,output_size = 1,1\n",
    "\n",
    "class LinearRegressionModel(torch.nn.Module):\n",
    "\n",
    "    def __init__(self):\n",
    "        super(LinearRegressionModel, self).__init__()\n",
    "        self.linear = torch.nn.Linear(input_size, output_size)  \n",
    "\n",
    "    def forward(self, x):\n",
    "        y_pred = self.linear(x)\n",
    "        return y_pred\n",
    "\n",
    "model = LinearRegressionModel()\n",
    "learning_rate = 0.01\n",
    "l = nn.MSELoss()\n",
    "optimizer = torch.optim.SGD(model.parameters(), lr =learning_rate)"
   ]
  },
  {
   "cell_type": "markdown",
   "metadata": {},
   "source": [
    "Train the model:"
   ]
  },
  {
   "cell_type": "code",
   "execution_count": 85,
   "metadata": {},
   "outputs": [
    {
     "name": "stdout",
     "output_type": "stream",
     "text": [
      "epoch 0, loss 9078.8662109375\n",
      "epoch 1000, loss 2224.139404296875\n",
      "epoch 2000, loss 1482.6478271484375\n",
      "epoch 3000, loss 1100.35009765625\n",
      "epoch 4000, loss 903.2459716796875\n",
      "epoch 5000, loss 801.622314453125\n",
      "epoch 6000, loss 749.2279663085938\n",
      "epoch 7000, loss 722.2144775390625\n",
      "epoch 8000, loss 708.2868041992188\n",
      "epoch 9000, loss 701.106201171875\n",
      "epoch 10000, loss 697.4038696289062\n",
      "epoch 11000, loss 695.4951171875\n",
      "epoch 12000, loss 694.510986328125\n",
      "epoch 13000, loss 694.0035400390625\n",
      "epoch 14000, loss 693.741943359375\n",
      "epoch 15000, loss 693.6071166992188\n",
      "epoch 16000, loss 693.5374755859375\n",
      "epoch 17000, loss 693.501708984375\n",
      "epoch 18000, loss 693.483154296875\n",
      "epoch 19000, loss 693.4736938476562\n"
     ]
    }
   ],
   "source": [
    "num_epochs = 20000\n",
    "\n",
    "for epoch in range(num_epochs):\n",
    "     #forward feed\n",
    "    y_pred = model(X_train.requires_grad_())\n",
    "\n",
    "    #calculate the loss\n",
    "    loss= l(y_pred, y_train)\n",
    "\n",
    "    #backward propagation: calculate gradients\n",
    "    loss.backward()\n",
    "\n",
    "    #update the weights\n",
    "    optimizer.step()\n",
    "\n",
    "    #clear out the gradients from the last step loss.backward()\n",
    "    optimizer.zero_grad()\n",
    "    \n",
    "    if epoch % 1000 == 0:\n",
    "     print('epoch {}, loss {}'.format(epoch, loss.item()))"
   ]
  },
  {
   "cell_type": "code",
   "execution_count": 86,
   "metadata": {},
   "outputs": [
    {
     "data": {
      "text/plain": [
       "array([[457.44882 ],\n",
       "       [325.22952 ],\n",
       "       [155.64798 ],\n",
       "       ...,\n",
       "       [ 33.368767],\n",
       "       [ 35.577686],\n",
       "       [ 29.992285]], dtype=float32)"
      ]
     },
     "execution_count": 86,
     "metadata": {},
     "output_type": "execute_result"
    }
   ],
   "source": [
    "model.forward(X_train).detach().numpy() #make prediction"
   ]
  }
 ],
 "metadata": {
  "interpreter": {
   "hash": "8794517f13bcfee9fc9e64fa68815e36a23c0d95e014b70721951cbb766e370b"
  },
  "kernelspec": {
   "display_name": "Python 3.9.7 64-bit (windows store)",
   "name": "python3"
  },
  "language_info": {
   "codemirror_mode": {
    "name": "ipython",
    "version": 3
   },
   "file_extension": ".py",
   "mimetype": "text/x-python",
   "name": "python",
   "nbconvert_exporter": "python",
   "pygments_lexer": "ipython3",
   "version": "3.9.7"
  }
 },
 "nbformat": 4,
 "nbformat_minor": 4
}
