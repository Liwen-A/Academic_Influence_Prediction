{
 "cells": [
  {
   "cell_type": "code",
   "execution_count": 1,
   "metadata": {},
   "outputs": [
    {
     "name": "stderr",
     "output_type": "stream",
     "text": [
      "[nltk_data] Downloading package wordnet to\n",
      "[nltk_data]     C:\\Users\\j\\AppData\\Roaming\\nltk_data...\n",
      "[nltk_data]   Package wordnet is already up-to-date!\n",
      "[nltk_data] Downloading package stopwords to\n",
      "[nltk_data]     C:\\Users\\j\\AppData\\Roaming\\nltk_data...\n",
      "[nltk_data]   Package stopwords is already up-to-date!\n",
      "[nltk_data] Downloading package punkt to\n",
      "[nltk_data]     C:\\Users\\j\\AppData\\Roaming\\nltk_data...\n",
      "[nltk_data]   Package punkt is already up-to-date!\n"
     ]
    },
    {
     "data": {
      "text/plain": [
       "True"
      ]
     },
     "execution_count": 1,
     "metadata": {},
     "output_type": "execute_result"
    }
   ],
   "source": [
    "import nltk\n",
    "import numpy as np\n",
    "nltk.download('wordnet')\n",
    "nltk.download('stopwords')\n",
    "nltk.download('punkt')"
   ]
  },
  {
   "cell_type": "code",
   "execution_count": 2,
   "metadata": {},
   "outputs": [],
   "source": [
    "from nltk.stem.wordnet import WordNetLemmatizer\n",
    "from nltk.corpus import stopwords\n",
    "from nltk.tokenize import word_tokenize\n",
    "from nltk.corpus import wordnet\n",
    "from itertools import chain\n",
    "\n"
   ]
  },
  {
   "cell_type": "code",
   "execution_count": 3,
   "metadata": {},
   "outputs": [
    {
     "data": {
      "text/plain": [
       "'Hotdogs'"
      ]
     },
     "execution_count": 3,
     "metadata": {},
     "output_type": "execute_result"
    }
   ],
   "source": [
    "lemmatizer = WordNetLemmatizer()\n",
    "lemmatizer.lemmatize('Hotdogs')"
   ]
  },
  {
   "cell_type": "code",
   "execution_count": 4,
   "metadata": {},
   "outputs": [
    {
     "data": {
      "text/plain": [
       "['Nick', 'likes', 'play', 'football', 'however', 'fond', 'tennis']"
      ]
     },
     "execution_count": 4,
     "metadata": {},
     "output_type": "execute_result"
    }
   ],
   "source": [
    "\n",
    "text = \"Nick likes to play football, however he is not too fond of tennis.\"\n",
    "text_tokens = word_tokenize(text)\n",
    "filtered_words = [word for word in text_tokens if word not in stopwords.words('english')]\n",
    "new_words= [word for word in filtered_words if word.isalnum()]\n",
    "filtered_words\n",
    "new_words\n",
    "#len(stopwords.words('english'))"
   ]
  },
  {
   "cell_type": "code",
   "execution_count": 5,
   "metadata": {},
   "outputs": [
    {
     "data": {
      "text/plain": [
       "{'science', 'scientific_discipline', 'skill'}"
      ]
     },
     "execution_count": 5,
     "metadata": {},
     "output_type": "execute_result"
    }
   ],
   "source": [
    "text = \"science\"\n",
    "synonyms = wordnet.synsets(text)\n",
    "lemmas = set(chain.from_iterable([word.lemma_names() for word in synonyms]))\n",
    "lemmas"
   ]
  },
  {
   "cell_type": "code",
   "execution_count": 7,
   "metadata": {},
   "outputs": [],
   "source": [
    "import gensim.models\n",
    "\n",
    "#model = \"./model.txt\"\n",
    "\n",
    "#word_vectors = gensim.models.KeyedVectors.load_word2vec_format(model, binary=False)\n",
    "#print(word_vectors.most_similar(\"vacation_NOUN\"))\n",
    "#print(word_vectors.most_similar(positive=['woman_NOUN', 'king_NOUN'], negative=['man_NOUN']))"
   ]
  },
  {
   "cell_type": "code",
   "execution_count": 9,
   "metadata": {},
   "outputs": [],
   "source": [
    "#print(word_vectors.most_similar(\"RNA_NOUN\"))"
   ]
  },
  {
   "cell_type": "code",
   "execution_count": 10,
   "metadata": {},
   "outputs": [
    {
     "name": "stdout",
     "output_type": "stream",
     "text": [
      "['fasttext-wiki-news-subwords-300', 'conceptnet-numberbatch-17-06-300', 'word2vec-ruscorpora-300', 'word2vec-google-news-300', 'glove-wiki-gigaword-50', 'glove-wiki-gigaword-100', 'glove-wiki-gigaword-200', 'glove-wiki-gigaword-300', 'glove-twitter-25', 'glove-twitter-50', 'glove-twitter-100', 'glove-twitter-200', '__testing_word2vec-matrix-synopsis']\n"
     ]
    }
   ],
   "source": [
    "import gensim.downloader\n",
    "print(list(gensim.downloader.info()['models'].keys()))"
   ]
  },
  {
   "cell_type": "code",
   "execution_count": 11,
   "metadata": {},
   "outputs": [],
   "source": [
    "wiki = gensim.downloader.load('glove-wiki-gigaword-300')"
   ]
  },
  {
   "cell_type": "code",
   "execution_count": 12,
   "metadata": {},
   "outputs": [],
   "source": [
    "glove_vectors = gensim.downloader.load('word2vec-google-news-300')"
   ]
  },
  {
   "cell_type": "code",
   "execution_count": 13,
   "metadata": {},
   "outputs": [],
   "source": [
    "#glove_vectors.most_similar('cdse')\n",
    "#wiki.most_similar('fullerene')\n",
    "#len(wiki['rna'])"
   ]
  },
  {
   "cell_type": "code",
   "execution_count": 14,
   "metadata": {},
   "outputs": [],
   "source": [
    "from scipy import spatial\n",
    "\n",
    "index2word_set = set(glove_vectors.index_to_key)\n",
    "\n",
    "def avg_feature_vector(sentence, model, num_features, index2word_set):\n",
    "    words = sentence.split()\n",
    "    feature_vec = np.zeros((num_features, ), dtype='float32')\n",
    "    n_words = 0\n",
    "    for word in words:\n",
    "        if word in index2word_set:\n",
    "            n_words += 1\n",
    "            feature_vec = np.add(feature_vec, model[word])\n",
    "    if (n_words > 0):\n",
    "        feature_vec = np.divide(feature_vec, n_words)\n",
    "    return feature_vec\n"
   ]
  },
  {
   "cell_type": "code",
   "execution_count": 15,
   "metadata": {},
   "outputs": [
    {
     "data": {
      "text/plain": [
       "'in paper new semiconductor device concept. basically, consists storing charge potential wells created surface semiconductor moving charge (representing information) surface moving potential minima. we discuss schemes creating, transferring, detecting presence absence charge. in particular, consider minority carrier charge storage si-sio 2 interface mos capacitor. this charge transferred closely adjacent capacitor substrate appropriate manipulation electrode potentials. examples possible applications shift register, imaging device, display device, performing logic.'"
      ]
     },
     "execution_count": 15,
     "metadata": {},
     "output_type": "execute_result"
    }
   ],
   "source": [
    "from gensim.parsing.preprocessing import remove_stopwords\n",
    "\n",
    "text1 = 'In this paper we describe a new semiconductor device concept. Basically, it consists of storing charge in potential wells created at the surface of a semiconductor and moving the charge (representing information) over the surface by moving the potential minima. We discuss schemes for creating, transferring, and detecting the presence or absence of the charge. In particular, we consider minority carrier charge storage at the Si-SiO 2 interface of a MOS capacitor. This charge may be transferred to a closely adjacent capacitor on the same substrate by appropriate manipulation of electrode potentials. Examples of possible applications are as a shift register, as an imaging device, as a display device, and in performing logic.'\n",
    "remove_stopwords(text1).lower()\n"
   ]
  },
  {
   "cell_type": "code",
   "execution_count": 17,
   "metadata": {},
   "outputs": [],
   "source": [
    "\n",
    "# physics abstract\n",
    "text1 = 'In this paper we describe a new semiconductor device concept. Basically, it consists of storing charge in potential wells created at the surface of a semiconductor and moving the charge (representing information) over the surface by moving the potential minima. We discuss schemes for creating, transferring, and detecting the presence or absence of the charge. In particular, we consider minority carrier charge storage at the Si-SiO 2 interface of a MOS capacitor. This charge may be transferred to a closely adjacent capacitor on the same substrate by appropriate manipulation of electrode potentials. Examples of possible applications are as a shift register, as an imaging device, as a display device, and in performing logic.'\n",
    "# biology abstract\n",
    "text2 = '''DNA of a new papillomavirus type was cloned from a cervical carcinoma biopsy. Two EcoRI clones of 7.8 and 6.9 kb in length were obtained, the latter contained a 900‐bp deletion. The BamHI fragments of both clones were used to characterize the DNA. It represents a distinct type of papillomavirus as determined by its size, its cross‐hybridization with DNA of other papillomavirus types under conditions of low stringency only, the co‐linear alignment of its genome with HPV 6 and HPV 16 prototypes and its occasional occurrence as oligomeric episomes. We tentatively propose to designate it as HPV 18. DNA hybridizing with HPV 18 under stringent conditions was detected in 9/36 cervical carcinomas from Africa and Brazil, in 2/13 cervical tumors from Germany and 1/10 penile carcinomas. Benign tumors (17 cervical dysplasias, 29 genital warts), eight carcinomata in situ and 15 biopsies of normal cervical tissue were devoid of detectable HPV 18 DNA. HPV 18‐related DNA was found, however, in cells of the HeLa, KB and C4‐1 lines all derived from cervical cancer. The state of the viral DNA was investigated in four cervical cancer biopsies. The data reveal that the DNA might be integrated into the host cell genome. One tumor provided evidence for head to tail tandem repeats some of which persisted as circular episomes.'''\n",
    "# physics abstract\n",
    "text3 = '''It is suggested that the nucleon mass arises largely as a self-energy of some primary fermion field through the same mechanism as the appearance of energy gap in the theory of superconductivity. The idea can be put into a mathematical formulation utilizing a generalized Hartree-Fock approximation which regards real nucleons as quasi-particle excitations. We consider a simplified model of nonlinear four-fermion interaction which allows a γ5-gauge group. An interesting consequence of the symmetry is that there arise automatically pseudoscalar zero-mass bound states of nucleon-antinucleon pair which may be regarded as an idealized pion. In addition, massive bound states of nucleon number zero and two are predicted in a simple approximation.\n",
    "The theory contains two parameters which can be explicitly related to observed nucleon mass and the pion-nucleon coupling constant. Some paradoxical aspects of the theory in connection with the γ5 transformation are discussed in detail. '''\n",
    "# physics abstract\n",
    "text4 = '''An experiment is described in which thermal electrons, ${t}_{e}\\ensuremath{\\approx}400\\ifmmode^\\circ\\else\\textdegree\\fi{}$K, become polarized in detectable numbers by undergoing exchange collisions with oriented sodium atoms during which the atom orientation is transferred to the electrons. The collisions establish interrelated equilibrium values for the atom and electron polarizations which depend upon the balance between the polarizing agency acting upon the atoms (optical pumping) and the disorienting relaxation effects acting both on atoms and electrons. When now the electrons are furthermore artificially disoriented by gyromagnetic spin resonance, an additional reduction of the atom polarization ensues which is detected by an optical monitoring technique, thereby allowing a determination of the free-electron spin $g$ factor, ${g}_{s}$. Since it was experimentally convenient, at this stage only the ratio $\\frac{{g}_{J}(\\mathrm{Na})}{{g}_{s}}=1.000026\\ifmmode\\pm\\else\\textpm\\fi{}0.00003$ was determined, showing no significant difference between ${g}_{s}$ and ${g}_{J}(\\mathrm{Na})$, the $g$ factor of the $^{2}S_{\\frac{1}{2}}$ sodium ground state. From the experimental strength and width of the electron disorientation signal a lower limit was obtained for the sodium exchange cross section with thermal electrons: $Qg2.3\\ifmmode\\times\\else\\texttimes\\fi{}{10}^{\\ensuremath{-}14}$ ${\\mathrm{cm}}^{2}$. This may be compared with a theoretical exchange cross section, $Q=2.3\\ifmmode\\times\\else\\texttimes\\fi{}{10}^{\\ensuremath{-}14}$ ${\\mathrm{cm}}^{2}$, which is derived under the assumption that the $3{s}^{2}{S}_{0}$ state of the ${\\mathrm{Na}}^{\\ensuremath{-}}$ion has essentially zero binding energy, thereby causing strong singlet scattering while the triplet scattering is negligible in comparison. Spin-orbit coupling during collisions of the electrons with the atoms of the inert argon buffer employed to slow down wall diffusion is discussed as the chief cause for the shortness of the observed free-electron spin relaxation time, ${T}_{e}\\ensuremath{\\approx}6\\ifmmode\\times\\else\\texttimes\\fi{}{10}^{\\ensuremath{-}5}$ sec.'''\n",
    "# medicine abstract\n",
    "text5 = '''The mammalian olfactory system can recognize and discriminate a large number of different odorant molecules. The detection of chemically distinct odorants presumably results from the association of odorous ligands with specific receptors on olfactory sensory neurons. To address the problem of olfactory perception at a molecular level, we have cloned and characterized 18 different members of an extremely large multigene family that encodes seven transmembrane domain proteins whose expression is restricted to the olfactory epithelium. The members of this novel gene family are likely to encode a diverse family of odorant receptors.'''\n",
    "\n"
   ]
  },
  {
   "cell_type": "code",
   "execution_count": 18,
   "metadata": {},
   "outputs": [
    {
     "data": {
      "text/plain": [
       "'\\ns1_afv = avg_feature_vector(text1, model=wiki, num_features=300, index2word_set=index2word_set)\\ns2_afv = avg_feature_vector(text2, model=wiki, num_features=300, index2word_set=index2word_set)\\ns3_afv = avg_feature_vector(text3, model=wiki, num_features=300, index2word_set=index2word_set)\\ns4_afv = avg_feature_vector(text4, model=wiki, num_features=300, index2word_set=index2word_set)\\ns5_afv = avg_feature_vector(text5, model=wiki, num_features=300, index2word_set=index2word_set)\\nsim12 = 1 - spatial.distance.cosine(s1_afv, s2_afv)\\nsim13 = 1 - spatial.distance.cosine(s1_afv, s3_afv)\\nsim14 = 1 - spatial.distance.cosine(s1_afv, s4_afv)\\nsim15 = 1 - spatial.distance.cosine(s1_afv, s5_afv)\\nprint(sim12, sim13, sim14, sim15)\\n'"
      ]
     },
     "execution_count": 18,
     "metadata": {},
     "output_type": "execute_result"
    }
   ],
   "source": [
    "'''\n",
    "s1_afv = avg_feature_vector(text1, model=wiki, num_features=300, index2word_set=index2word_set)\n",
    "s2_afv = avg_feature_vector(text2, model=wiki, num_features=300, index2word_set=index2word_set)\n",
    "s3_afv = avg_feature_vector(text3, model=wiki, num_features=300, index2word_set=index2word_set)\n",
    "s4_afv = avg_feature_vector(text4, model=wiki, num_features=300, index2word_set=index2word_set)\n",
    "s5_afv = avg_feature_vector(text5, model=wiki, num_features=300, index2word_set=index2word_set)\n",
    "sim12 = 1 - spatial.distance.cosine(s1_afv, s2_afv)\n",
    "sim13 = 1 - spatial.distance.cosine(s1_afv, s3_afv)\n",
    "sim14 = 1 - spatial.distance.cosine(s1_afv, s4_afv)\n",
    "sim15 = 1 - spatial.distance.cosine(s1_afv, s5_afv)\n",
    "print(sim12, sim13, sim14, sim15)\n",
    "'''"
   ]
  },
  {
   "cell_type": "code",
   "execution_count": 19,
   "metadata": {},
   "outputs": [],
   "source": [
    "# compare chemistry papers, subfield organic chemistry vs inorganic chemistry\n",
    "\n",
    "# text 1,2 are co2 reduction paper, text 3,4 are metathesis polymerization papers\n",
    "text1 = '''Photocatalytic carbon dioxide (CO2) reduction to obtain hydrocarbon solar fuels is one of the promising strategies to solve energy crisis and complement carbon cycle. However, the low activity and poor product selectivity greatly limit its practical application. Tuning product selectivity is of great significance to improve the yield of target product and deepen the understanding of CO2 reduction reaction mechanism. In this review, we firstly summarize the widely accepted pathways of photocatalytic CO2 reduction reactions. Secondly, important factors affecting product selectivity are analyzed, mainly including light-excitation attributes, band structure of photocatalysts, separation of photogenerated charge carriers, adsorption/activation of reactants, surface active sites of catalytic reaction, and adsorption/desorption of intermediates. Finally, the challenges and perspectives in developing photocatalysts with high CO2 reduction efficiency and product selectivity are presented.'''\n",
    "text2 = '''Recent progress about electrochemical CO2 reduction toward C2+ products is reviewed. In light of environmental concerns and energy transition, electrochemical CO2 reduction (ECR) to value-added multicarbon (C2+) fuels and chemicals, using renewable electricity, presents an elegant long-term solution to close the carbon cycle with added economic benefits as well. However, electrocatalytic C─C coupling in aqueous electrolytes is still an open challenge due to low selectivity, activity, and stability. Design of catalysts and reactors holds the key to addressing those challenges. We summarize recent progress in how to achieve efficient C─C coupling via ECR, with emphasis on strategies in electrocatalysts and electrocatalytic electrode/reactor design, and their corresponding mechanisms. In addition, current bottlenecks and future opportunities for C2+ product generation is discussed. We aim to provide a detailed review of the state-of-the-art C─C coupling strategies to the community for further development and inspiration in both fundamental understanding and technological applications.'''\n",
    "text3 = '''New norbornene-type monomers containing covalently bound C60 fullerene have been obtained. In the presence of the 1st generation Grubbs catalyst [(PCy3)2Cl2RuCHPh] (Cy is cyclohexyl), these monomers smoothly undergo homopolymerization and copolymerization with parent fullerene-free monomers. The homopolymers are insoluble in common organic solvents, while the copolymers obtained at different molar ratios to their fullerene-free analogues are very soluble in organic solvents and can be suitable for the preparation of thin films.'''\n",
    "text4 = '''Core–shell CdSe/ZnS quantum dots (QDs) are useful as tunable photostable fluorophores for multiple applications in industry, biology, and medicine. However, to achieve the optimum optical properties, the surface of the QDs must be passivated to remove charged sites that might bind extraneous substances and allow aggregation. Here we describe a method of growing an organic polymer corona onto the QD surface using the bottom-up approach of surface-initiated ring-opening metathesis polymerization (SI-ROMP) with Grubbs catalyst. CdSe/ZnS QDs were first coated with mercaptopropionic acid by displacing the original tri-octylphosphine oxide layer, and then reacted with 7-octenyl dimethyl chlorosilane. The resulting octenyl double bonds allowed the attachment of ruthenium alkylidene groups as a catalyst. A subsequent metathesis reaction with strained bicyclic monomers (norbornene-dicarbonyl chloride (NDC), and a mixture of NDC and norbornenylethylisobutyl-polyhedral oligomeric silsesquioxane (norbornoPOSS)) allowed the construction of tethered organic homo-polymer or co-polymer layers onto the QD. Compounds were characterized by FT-IR, 1H-NMR, X-ray photoelectron spectroscopy, differential scanning calorimetry, and transmission electron microscopy. Atomic force microscopy showed that the coated QDs were separate and non-aggregated with a range of diameter of 48–53 nm.'''\n",
    "#text4 = '''Targeted nucleases are powerful tools for mediating genome alteration with high precision. The RNA-guided Cas9 nuclease from the microbial clustered regularly interspaced short palindromic repeats (CRISPR) adaptive immune system can be used to facilitate efficient genome engineering in eukaryotic cells by simply specifying a 20-nt targeting sequence within its guide RNA. Here we describe a set of tools for Cas9-mediated genome editing via nonhomologous end joining (NHEJ) or homology-directed repair (HDR) in mammalian cells, as well as generation of modified cell lines for downstream functional studies. To minimize off-target cleavage, we further describe a double-nicking strategy using the Cas9 nickase mutant with paired guide RNAs. This protocol provides experimentally derived guidelines for the selection of target sites, evaluation of cleavage efficiency and analysis of off-target activity. Beginning with target design, gene modifications can be achieved within as little as 1–2 weeks, and modified clonal cell lines can be derived within 2–3 weeks.'''"
   ]
  },
  {
   "cell_type": "code",
   "execution_count": 20,
   "metadata": {},
   "outputs": [
    {
     "name": "stdout",
     "output_type": "stream",
     "text": [
      "0.9173054695129395 0.7913068532943726 0.7918593287467957 0.8992961645126343\n"
     ]
    }
   ],
   "source": [
    "s1_afv = avg_feature_vector(text1, model=glove_vectors, num_features=300, index2word_set=index2word_set)\n",
    "s2_afv = avg_feature_vector(text2, model=glove_vectors, num_features=300, index2word_set=index2word_set)\n",
    "s3_afv = avg_feature_vector(text3, model=glove_vectors, num_features=300, index2word_set=index2word_set)\n",
    "s4_afv = avg_feature_vector(text4, model=glove_vectors, num_features=300, index2word_set=index2word_set)\n",
    "\n",
    "sim12 = 1 - spatial.distance.cosine(s1_afv, s2_afv)\n",
    "sim13 = 1 - spatial.distance.cosine(s1_afv, s3_afv)\n",
    "sim14 = 1 - spatial.distance.cosine(s1_afv, s4_afv)\n",
    "sim34 = 1 - spatial.distance.cosine(s3_afv, s4_afv)\n",
    "\n",
    "\n",
    "print(sim12, sim13, sim14, sim34)"
   ]
  },
  {
   "cell_type": "code",
   "execution_count": 21,
   "metadata": {},
   "outputs": [
    {
     "name": "stdout",
     "output_type": "stream",
     "text": [
      "<class 'numpy.ndarray'>\n",
      "0.9027944207191467 0.7198030352592468 0.751140296459198 0.8835521936416626\n"
     ]
    }
   ],
   "source": [
    "text1 = remove_stopwords(text1)\n",
    "text2 = remove_stopwords(text2)\n",
    "text3 = remove_stopwords(text3)\n",
    "text4 = remove_stopwords(text4)\n",
    "\n",
    "s1_afv = avg_feature_vector(text1, model=glove_vectors, num_features=300, index2word_set=index2word_set)\n",
    "s2_afv = avg_feature_vector(text2, model=glove_vectors, num_features=300, index2word_set=index2word_set)\n",
    "s3_afv = avg_feature_vector(text3, model=glove_vectors, num_features=300, index2word_set=index2word_set)\n",
    "s4_afv = avg_feature_vector(text4, model=glove_vectors, num_features=300, index2word_set=index2word_set)\n",
    "print(type(s4_afv))\n",
    "sim12 = 1 - spatial.distance.cosine(s1_afv, s2_afv)\n",
    "sim13 = 1 - spatial.distance.cosine(s1_afv, s3_afv)\n",
    "sim14 = 1 - spatial.distance.cosine(s1_afv, s4_afv)\n",
    "sim34 = 1 - spatial.distance.cosine(s3_afv, s4_afv)\n",
    "\n",
    "\n",
    "print(sim12, sim13, sim14, sim34)"
   ]
  },
  {
   "cell_type": "code",
   "execution_count": 38,
   "metadata": {},
   "outputs": [],
   "source": [
    "import pandas as pd\n",
    "df = pd.read_csv('./CitationByYearData/MedNobel.csv')\n",
    "#df['abstract'][0]\n",
    "w2v = np.empty((df.shape[0], 300), dtype=object)\n",
    "for i in range(df.shape[0]):\n",
    "    if type(df['abstract'][i]) == str:\n",
    "        text1 = remove_stopwords(df['abstract'][i])\n",
    "        w2v[i] = avg_feature_vector(text1, model=glove_vectors, num_features=300, index2word_set=index2word_set)\n"
   ]
  },
  {
   "cell_type": "code",
   "execution_count": 39,
   "metadata": {},
   "outputs": [],
   "source": [
    "w2vdf = pd.DataFrame(w2v)\n",
    "w2vdf.to_csv('./CitationByYearData/w2vMedNobel.csv',index=False)"
   ]
  },
  {
   "cell_type": "code",
   "execution_count": 34,
   "metadata": {},
   "outputs": [
    {
     "name": "stdout",
     "output_type": "stream",
     "text": [
      "0.8687998117494016 0.7517465033074631\n"
     ]
    }
   ],
   "source": [
    "sim34 = 1 - spatial.distance.cosine(w2v[1324], w2v[1313])\n",
    "sim44 = 1 - spatial.distance.cosine(w2v[1601], w2v[1598])\n",
    "print(sim34, sim44)"
   ]
  },
  {
   "cell_type": "code",
   "execution_count": 35,
   "metadata": {},
   "outputs": [
    {
     "data": {
      "text/plain": [
       "'We present a study of the radiative recombination in In0.15Ga0.85N/GaN multiple quantum well samples, where the conditions of growth of the InGaN quantum layers were varied in terms of growth temperature (< 800 °C) and donor doping. The photoluminescence peak position varies strongly (over a range as large as 0.3 eV) with delay time after pulsed excitation, but also with donor doping and with excitation intensity. The peak position is mainly determined by the Stark effect induced by the piezoelectric field. In addition potential fluctuations, originating from segregation effects in the InGaN material, from interface roughness, and the strain fluctuations related to these phenomena, play an important role, and largely determine the width of the emission. These potential fluctuations may be as large as 0.2 eV in the present samples, and appear to be important for all studied growth temperatures for the InGaN layers. Screening effects from donor electrons and excited electron-hole pairs are important, and account for a large part of the spectral shift with donor doping (an upward shift of the photoluminescence peak up to 0.2 eV is observed for a Si donor density of 2 x 1018 cm-3 in the well), with excitation intensity and with delay time after pulsed excitation (also shifts up to 0.2 eV). We suggest a two-dimensional model for electronand donor screening in this case, which is in reasonable agreement with the observed data, if rather strong localization potentials of short range (of the order 100 Å) are present. The possibility that excitons as well as shallow donors are impact ionized by electrons in the rather strong lateral potential fluctuations present at this In composition is discussed.'"
      ]
     },
     "execution_count": 35,
     "metadata": {},
     "output_type": "execute_result"
    }
   ],
   "source": [
    "df['abstract'][1601]"
   ]
  }
 ],
 "metadata": {
  "interpreter": {
   "hash": "a04fab6e05702c75fb9e75bcdf43a21860b4afa774047c51d624e20268024a12"
  },
  "kernelspec": {
   "display_name": "Python 3.6.6 64-bit ('cs229': conda)",
   "language": "python",
   "name": "python3"
  },
  "language_info": {
   "codemirror_mode": {
    "name": "ipython",
    "version": 3
   },
   "file_extension": ".py",
   "mimetype": "text/x-python",
   "name": "python",
   "nbconvert_exporter": "python",
   "pygments_lexer": "ipython3",
   "version": "3.6.13"
  },
  "orig_nbformat": 4
 },
 "nbformat": 4,
 "nbformat_minor": 2
}
