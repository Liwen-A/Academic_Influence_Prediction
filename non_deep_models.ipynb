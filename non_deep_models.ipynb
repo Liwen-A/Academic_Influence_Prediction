{
 "cells": [
  {
   "cell_type": "code",
   "execution_count": 8,
   "metadata": {},
   "outputs": [],
   "source": [
    "import os\n",
    "import pandas as pd\n",
    "#load data \n",
    "data = []\n",
    "for f in os.listdir('DataByDIscinpline'):\n",
    "    dir = 'DataByDIscinpline/'+f\n",
    "    data.append(pd.read_csv(dir))\n",
    "df = pd.concat(data)\n",
    "df = df.dropna()\n",
    "df = df.sample(frac=1).reset_index(drop=True)\n",
    "abstract = df['abstract']\n",
    "citation_train = df['citationCount'][10000:]\n",
    "citation_test = df['citationCount'][:10000]"
   ]
  },
  {
   "cell_type": "code",
   "execution_count": 9,
   "metadata": {},
   "outputs": [],
   "source": [
    "from sklearn.feature_extraction.text import CountVectorizer\n",
    "vec = CountVectorizer()\n",
    "x = vec.fit_transform(abstract)\n",
    "x_train = x[10000:]\n",
    "x_test = x[:10000]"
   ]
  },
  {
   "cell_type": "code",
   "execution_count": 13,
   "metadata": {},
   "outputs": [
    {
     "data": {
      "text/plain": [
       "DecisionTreeRegressor()"
      ]
     },
     "execution_count": 13,
     "metadata": {},
     "output_type": "execute_result"
    }
   ],
   "source": [
    "from sklearn.tree import DecisionTreeRegressor\n",
    "regressor = DecisionTreeRegressor()\n",
    "regressor.fit(x_train,citation_train)"
   ]
  },
  {
   "cell_type": "code",
   "execution_count": 14,
   "metadata": {},
   "outputs": [
    {
     "data": {
      "text/plain": [
       "0.8845816266160166"
      ]
     },
     "execution_count": 14,
     "metadata": {},
     "output_type": "execute_result"
    }
   ],
   "source": [
    "test = pd.read_csv('CitationByYearData/data2.csv')\n",
    "test.dropna(inplace=True)\n",
    "test_x = vec.transform(test['abstract'])\n",
    "test_y = test['citationCount']\n",
    "regressor.score(test_x,test_y)"
   ]
  },
  {
   "cell_type": "code",
   "execution_count": 39,
   "metadata": {},
   "outputs": [
    {
     "data": {
      "text/plain": [
       "-0.06390775297143447"
      ]
     },
     "execution_count": 39,
     "metadata": {},
     "output_type": "execute_result"
    }
   ],
   "source": [
    "embedded_x = pd.read_csv('w2v.csv').dropna().reset_index()\n",
    "data3 = pd.read_csv('CitationByYearData/data3.csv').dropna().reset_index()\n",
    "data3_citation= data3['citationCount']\n",
    "tree = DecisionTreeRegressor(max_depth=2)\n",
    "tree.fit(embedded_x[500:],data3_citation[500:])\n",
    "tree.score(embedded_x[:500],data3_citation[:500])"
   ]
  }
 ],
 "metadata": {
  "interpreter": {
   "hash": "8794517f13bcfee9fc9e64fa68815e36a23c0d95e014b70721951cbb766e370b"
  },
  "kernelspec": {
   "display_name": "Python 3.9.9 64-bit (windows store)",
   "language": "python",
   "name": "python3"
  },
  "language_info": {
   "codemirror_mode": {
    "name": "ipython",
    "version": 3
   },
   "file_extension": ".py",
   "mimetype": "text/x-python",
   "name": "python",
   "nbconvert_exporter": "python",
   "pygments_lexer": "ipython3",
   "version": "3.9.9"
  },
  "orig_nbformat": 4
 },
 "nbformat": 4,
 "nbformat_minor": 2
}
